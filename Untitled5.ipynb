{
 "cells": [
  {
   "cell_type": "code",
   "execution_count": 2,
   "id": "5c92afcd",
   "metadata": {},
   "outputs": [
    {
     "data": {
      "text/plain": [
       "0.8857781016462183"
      ]
     },
     "execution_count": 2,
     "metadata": {},
     "output_type": "execute_result"
    }
   ],
   "source": [
    "import numpy as np\n",
    "import math\n",
    "x = np.array([13,4,20,0,19,11,120,59])\n",
    "y= np.array([98,17,93,72,39,85,720,55])\n",
    "n=8\n",
    "sumxy= np.sum(x*y)\n",
    "sumx=np.sum(x)\n",
    "sumy=np.sum(y)\n",
    "sumx2=np.sum(x*x)\n",
    "sumy2=np.sum(y*y)\n",
    "l= (n*sumxy)-(sumx*sumy)\n",
    "h= math.sqrt((n*sumx2-math.pow(sumx,2))*(n*sumy2-math.pow(sumy,2)))\n",
    "corr= l/h\n",
    "corr"
   ]
  },
  {
   "cell_type": "code",
   "execution_count": 3,
   "id": "a1efda81",
   "metadata": {},
   "outputs": [],
   "source": [
    "import matplotlib.pyplot as plt\n"
   ]
  },
  {
   "cell_type": "code",
   "execution_count": 6,
   "id": "c9aac792",
   "metadata": {},
   "outputs": [
    {
     "data": {
      "text/plain": [
       "<matplotlib.collections.PathCollection at 0x13a0f8a96d0>"
      ]
     },
     "execution_count": 6,
     "metadata": {},
     "output_type": "execute_result"
    },
    {
     "data": {
      "image/png": "[encoded data removed]",
      "text/plain": [
       "<Figure size 432x288 with 1 Axes>"
      ]
     },
     "metadata": {
      "needs_background": "light"
     },
     "output_type": "display_data"
    }
   ],
   "source": [
    "plt.scatter(x,y)"
   ]
  },
  {
   "cell_type": "code",
   "execution_count": 5,
   "id": "2bc2c0ef",
   "metadata": {},
   "outputs": [],
   "source": [
    "plt.show()"
   ]
  },
  {
   "cell_type": "code",
   "execution_count": null,
   "id": "a16a8c41",
   "metadata": {},
   "outputs": [],
   "source": []
  }
 ],
 "metadata": {
  "kernelspec": {
   "display_name": "Python 3",
   "language": "python",
   "name": "python3"
  },
  "language_info": {
   "codemirror_mode": {
    "name": "ipython",
    "version": 3
   },
   "file_extension": ".py",
   "mimetype": "text/x-python",
   "name": "python",
   "nbconvert_exporter": "python",
   "pygments_lexer": "ipython3",
   "version": "3.8.8"
  }
 },
 "nbformat": 4,
 "nbformat_minor": 5
}
